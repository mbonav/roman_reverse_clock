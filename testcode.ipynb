{
 "cells": [
  {
   "cell_type": "markdown",
   "id": "91c3006e",
   "metadata": {},
   "source": [
    "## This is an example code that includes three functions that performs the following tasks:\n",
    "1.\tTake a Roman numeral as its input and returns its value as an integer.\n",
    "  \n",
    "2.\tReverses each word in a string\n",
    "   \n",
    "3.\tGiven the time of the day (hours, minutes) return the angle between the hands on a clock.\n"
   ]
  },
  {
   "cell_type": "markdown",
   "id": "3efbd7fd",
   "metadata": {},
   "source": [
    "### The _roman_to_integer_ function takes a Roman numeral as input and converts it to an integer value. \n",
    "\n",
    "1. It initializes a dictionary, roman_values, which maps each Roman numeral character (e.g., 'I', 'V', 'X') to its corresponding decimal value (e.g., 1, 5, 10).\n",
    "\n",
    "2. Uses a loop to iterate through the characters of the Roman numeral in reverse order (roman_numeral[::-1]).\n",
    "\n",
    "3. For each character, it retrieves its corresponding decimal value from the roman_values dictionary.\n",
    "\n",
    "4. Compares the current value with the previous value (prev_value) to determine if it needs to be subtracted or added to the result.\n",
    "\n",
    "5. If the current value is less than the previous value, it means that it needs to be subtracted. In this case, the function subtracts the value from the result.\n",
    "\n",
    "6. Otherwise, if the current value is greater than or equal to the previous value, it means that it needs to be added. The function adds the value to the result and updates the prev_value to the current value.\n",
    "\n",
    "7. Finally, returns the resulting integer value.\n",
    "       "
   ]
  },
  {
   "cell_type": "code",
   "execution_count": 1,
   "id": "118f5c8b",
   "metadata": {},
   "outputs": [],
   "source": [
    "# Task 1: Convert Roman numeral to integer\n",
    "def roman_to_integer(roman_numeral):\n",
    "    #initialising the dictionary\n",
    "    roman_values = {\"I\": 1, \"V\": 5, \"X\": 10, \"L\": 50, \"C\": 100, \"D\": 500, \"M\": 1000}\n",
    "\n",
    "    result = 0\n",
    "    prev_value = 0\n",
    "    \n",
    "    # loop trough the caracters in reverse order \n",
    "    # to retrieve the corresponding decimal value from the dictionary\n",
    "    for char in roman_numeral[::-1]:\n",
    "        value = roman_values[char]\n",
    "        if value < prev_value:\n",
    "            result -= value\n",
    "        else:\n",
    "            result += value\n",
    "            prev_value = value\n",
    "\n",
    "    return result"
   ]
  },
  {
   "cell_type": "markdown",
   "id": "a8076b97",
   "metadata": {},
   "source": [
    "Here's an example of how it works:"
   ]
  },
  {
   "cell_type": "code",
   "execution_count": 3,
   "id": "a9f03db5",
   "metadata": {
    "scrolled": true
   },
   "outputs": [
    {
     "name": "stdout",
     "output_type": "stream",
     "text": [
      "Roman numeral: MCMXX\n",
      "Integer value: 1920\n"
     ]
    }
   ],
   "source": [
    "# Task 1: Roman numeral to integer\n",
    "roman_numeral = 'MCMXX'\n",
    "value = roman_to_integer(roman_numeral)\n",
    "print(f'Roman numeral: {roman_numeral}')\n",
    "print(f'Integer value: {value}')\n"
   ]
  },
  {
   "cell_type": "markdown",
   "id": "48c1552b",
   "metadata": {},
   "source": [
    "### The _reverse_words_ function takes a string as input and reverses each word in the string. \n",
    "\n",
    "\n",
    "1. It uses the *re.findall* function with a regular expression pattern (r'\\w+') to split the string into words. The pattern \\w+ matches one or more word characters.\n",
    "\n",
    "2. Creates a list, reversed_words, by iterating over the words and reversing each word using string slicing (word[::-1]).\n",
    "\n",
    "3. Uses *re.sub* with a lambda function to replace each word in the original string with the corresponding reversed word. The lambda function retrieves the next reversed word from the reversed_words list using pop(0).\n",
    "\n",
    "4. Returns the resulting string with reversed words.    \n",
    "    \n",
    "    "
   ]
  },
  {
   "cell_type": "code",
   "execution_count": 4,
   "id": "6c8c80c5",
   "metadata": {},
   "outputs": [],
   "source": [
    "# Task 2: Reverse words in a string\n",
    "import re\n",
    "def reverse_words(string):\n",
    "    # Split the string into words using regular expression\n",
    "    words = re.findall(r\"\\w+\", string)\n",
    "\n",
    "    # Reverse each word\n",
    "    reversed_words = [word[::-1] for word in words]\n",
    "\n",
    "    # Reconstruct the string with reversed words\n",
    "    result = re.sub(r\"\\w+\", lambda m: reversed_words.pop(0), string)\n",
    "\n",
    "    return result"
   ]
  },
  {
   "cell_type": "markdown",
   "id": "e2818cd0",
   "metadata": {},
   "source": [
    "Here's an example of how it works:"
   ]
  },
  {
   "cell_type": "code",
   "execution_count": 5,
   "id": "bd4d63d7",
   "metadata": {
    "scrolled": true
   },
   "outputs": [
    {
     "name": "stdout",
     "output_type": "stream",
     "text": [
      "Original string: Hello World! OpenAI is awesome.\n",
      "Reversed string: olleH dlroW! IAnepO si emosewa.\n"
     ]
    }
   ],
   "source": [
    "string = 'Hello World! OpenAI is awesome.'\n",
    "reversed_string = reverse_words(string)\n",
    "print(f'Original string: {string}')\n",
    "print(f'Reversed string: {reversed_string}')\n"
   ]
  },
  {
   "cell_type": "markdown",
   "id": "8df9d3d8",
   "metadata": {},
   "source": [
    "### The _angle_between_hands_ function takes the hours and minutes of a clock time as input and calculates the angle between the hands on the clock.\n",
    "\n",
    "1. The code checks if the given hours are greater than or equal to 12 (indicating the PM hours). \n",
    "    If so, it subtracts 12 from the hours to convert them to the 12-hour format.\n",
    "\n",
    "\n",
    "2. The hour_angle is calculated by multiplying the number of hours by 30 degrees and adding an additional fraction based on the minutes. Since the hour hand moves 30 degrees in 60 minutes, the additional fraction is calculated as 0.5 * (60 * (hours % 12) + minutes). The modulo operator % is used to ensure that the hour value is between 0 and 11 (12-hour clock format).\n",
    "\n",
    "\n",
    "3. The minute_angle is calculated by multiplying the number of minutes by 6 degrees. \n",
    "    Since the minute hand moves 6 degrees in 1 minute, the angle is simply 6 * minutes.\n",
    "\n",
    "\n",
    "4. The absolute difference between hour_angle and minute_angle is calculated. \n",
    "    This gives the initial angle between the two clock hands.\n",
    "\n",
    "\n",
    "5. The minimum angle between the two possible angles is taken by comparing the initial angle with its complement (360 - angle). \n",
    "    This ensures that the smaller angle is always considered, as the clock hands can move in both clockwise and counterclockwise directions.\n",
    "\n",
    "\n",
    "6. The final calculated angle is returned.\n",
    "\n"
   ]
  },
  {
   "cell_type": "code",
   "execution_count": 6,
   "id": "e5a8b987",
   "metadata": {},
   "outputs": [],
   "source": [
    "# Task 3: Calculate the angle between clock hands\n",
    "def angle_between_hands(hours, minutes):\n",
    "    # accounting for the 24-hour format\n",
    "    if hours >= 12:\n",
    "        hours -= 12\n",
    "        \n",
    "    # Calculate the angles for the hour and minute hands\n",
    "    hour_angle = 0.5 * (60 * (hours % 12) + minutes)\n",
    "    minute_angle = 6 * minutes\n",
    "\n",
    "    # Calculate the absolute difference between the angles\n",
    "    angle = abs(hour_angle - minute_angle)\n",
    "\n",
    "    # Take the smaller angle between the two possible angles\n",
    "    angle = min(angle, 360 - angle)\n",
    "\n",
    "    return angle"
   ]
  },
  {
   "cell_type": "markdown",
   "id": "ab92c573",
   "metadata": {},
   "source": [
    "Here's an example of how it works:"
   ]
  },
  {
   "cell_type": "code",
   "execution_count": 8,
   "id": "b41f004d",
   "metadata": {},
   "outputs": [
    {
     "name": "stdout",
     "output_type": "stream",
     "text": [
      "Time: 10:00\n",
      "Angle between hands: 60.0 degrees\n",
      "Time: 22:00\n",
      "Angle between hands: 60.0 degrees\n"
     ]
    }
   ],
   "source": [
    "    hours = 10\n",
    "    minutes = 0\n",
    "    angle = angle_between_hands(hours, minutes)\n",
    "    print(f'Time: {hours:02d}:{minutes:02d}')\n",
    "    print(f'Angle between hands: {angle} degrees')\n",
    "    \n",
    "    hours = 22\n",
    "    minutes = 0\n",
    "    angle = angle_between_hands(hours, minutes)\n",
    "    print(f'Time: {hours:02d}:{minutes:02d}')\n",
    "    print(f'Angle between hands: {angle} degrees')\n",
    "    "
   ]
  },
  {
   "cell_type": "code",
   "execution_count": null,
   "id": "e268429d",
   "metadata": {},
   "outputs": [],
   "source": []
  }
 ],
 "metadata": {
  "kernelspec": {
   "display_name": "Python 3",
   "language": "python",
   "name": "python3"
  },
  "language_info": {
   "codemirror_mode": {
    "name": "ipython",
    "version": 3
   },
   "file_extension": ".py",
   "mimetype": "text/x-python",
   "name": "python",
   "nbconvert_exporter": "python",
   "pygments_lexer": "ipython3",
   "version": "3.10.8"
  }
 },
 "nbformat": 4,
 "nbformat_minor": 5
}
