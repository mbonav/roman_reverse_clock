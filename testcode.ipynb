{
 "cells": [
  {
   "cell_type": "markdown",
   "id": "340c82d6",
   "metadata": {},
   "source": [
    "## This Jupyter notebook demonstrates the usage of three functions that performs the following tasks:\n",
    "\n",
    "1.\tTake a Roman numeral as its input and returns its value as an integer.\n",
    "  \n",
    "2.\tReverses each word in a string\n",
    "   \n",
    "3.\tGiven the time of the day (hours, minutes) return the angle between the hands on a clock.\n"
   ]
  },
  {
   "cell_type": "markdown",
   "id": "3efbd7fd",
   "metadata": {},
   "source": [
    "### The _roman_to_integer_ function takes a Roman numeral as input and converts it to an integer value. \n",
    "\n",
    "It a NumPy array to store the decimal values corresponding to each Roman numeral character. \n",
    "\n",
    "It then calculates the result using NumPy operations such as indexing, comparison, and summation.\n",
    "\n",
    "Here's an example of how it works:"
   ]
  },
  {
   "cell_type": "code",
   "execution_count": 5,
   "id": "a9f03db5",
   "metadata": {
    "scrolled": true
   },
   "outputs": [
    {
     "name": "stdout",
     "output_type": "stream",
     "text": [
      "Roman numeral: MCMXX\n",
      "Integer value: 1920\n",
      "Roman numeral: MCMXZ\n",
      "Integer value: (None, \"Invalid Roman numeral: Unknown character 'Z'\")\n"
     ]
    }
   ],
   "source": [
    "from code import roman_to_integer\n",
    "\n",
    "roman_numeral = 'MCMXX'\n",
    "result = roman_to_integer(roman_numeral)\n",
    "print(f'Roman numeral: {roman_numeral}')\n",
    "print(f'Integer value: {result}')\n",
    "# Output: Roman numeral: MCMXC\n",
    "#         Integer value: 1990\n",
    "\n",
    "roman_numeral = 'MCMXZ'\n",
    "result = roman_to_integer(roman_numeral)\n",
    "print(f'Roman numeral: {roman_numeral}')\n",
    "print(f'Integer value: {result}')\n",
    "# Output: Roman numeral: MCMXC\n",
    "#         Integer value: 1990\n",
    "\n"
   ]
  },
  {
   "cell_type": "markdown",
   "id": "48c1552b",
   "metadata": {},
   "source": [
    "### The _reverse_words_ function takes a string as input and reverses each word in a string. \n",
    "\n",
    "\n",
    "It splits the input string into an array of words. \n",
    "\n",
    "It then applies the reversal operation to each word. \n",
    "\n",
    "Finally, it joins the reversed words back into a string.\n",
    "  \n",
    "    \n",
    "    \n",
    "Here's an example of how it works:"
   ]
  },
  {
   "cell_type": "code",
   "execution_count": 8,
   "id": "bd4d63d7",
   "metadata": {
    "scrolled": true
   },
   "outputs": [
    {
     "name": "stdout",
     "output_type": "stream",
     "text": [
      "Original string: Hello World! OpenAI is awesome!\n",
      "Reversed string: olleH !dlroW IAnepO si !emosewa\n"
     ]
    }
   ],
   "source": [
    "from code import reverse_words\n",
    "# Example usage of reverse_words\n",
    "string = 'Hello World! OpenAI is awesome!'\n",
    "reversed_string = reverse_words(string)\n",
    "print(f'Original string: {string}')\n",
    "print(f'Reversed string: {reversed_string}')\n",
    "# Output: Original string: Hello World! OpenAI is awesome!\n",
    "#         Reversed string: olleH dlroW! IAepnO si !emosewa"
   ]
  },
  {
   "cell_type": "markdown",
   "id": "8df9d3d8",
   "metadata": {},
   "source": [
    "### The _angle_between_hands_ function takes the hours and minutes of a clock time as input and calculates the angle between the hands on the clock.\n",
    "\n",
    "It calculates the hour angle and minute angle using basic arithmetic operations with NumPy arrays. \n",
    "\n",
    "The absolute difference between the angles is computed using np.abs, and the minimum angle is determined using np.minimum.   \n",
    "\n",
    "Here's an example of how it works:"
   ]
  },
  {
   "cell_type": "code",
   "execution_count": 3,
   "id": "b41f004d",
   "metadata": {},
   "outputs": [
    {
     "name": "stdout",
     "output_type": "stream",
     "text": [
      "Time: 11:30\n",
      "Angle between hands: 165.0 \n",
      "Time: 23:30\n",
      "Angle between hands: 165.0 \n",
      "Time: 27:65\n",
      "Angle between hands: (None, 'Invalid time: Time values are out of range') \n"
     ]
    }
   ],
   "source": [
    "# Example usage of angle_between_hands\n",
    "\n",
    "from code import angle_between_hands\n",
    "\n",
    "hours = 11\n",
    "minutes = 30\n",
    "angle = angle_between_hands(hours, minutes)\n",
    "print(f'Time: {hours:02d}:{minutes:02d}')\n",
    "print(f'Angle between hands: {angle} ')\n",
    "# Output: Time: 11:30\n",
    "#         Angle between hands: 165.0 degrees\n",
    "\n",
    "hours = 23\n",
    "minutes = 30\n",
    "angle = angle_between_hands(hours, minutes)\n",
    "print(f'Time: {hours:02d}:{minutes:02d}')\n",
    "print(f'Angle between hands: {angle} ')\n",
    "# Output: Time: 23:30\n",
    "#         Angle between hands: 165.0 degrees\n",
    "\n",
    "hours = 27\n",
    "minutes = 65\n",
    "angle = angle_between_hands(hours, minutes)\n",
    "print(f'Time: {hours:02d}:{minutes:02d}')\n",
    "print(f'Angle between hands: {angle} ')"
   ]
  },
  {
   "cell_type": "code",
   "execution_count": null,
   "id": "e268429d",
   "metadata": {},
   "outputs": [],
   "source": []
  }
 ],
 "metadata": {
  "kernelspec": {
   "display_name": "Python 3",
   "language": "python",
   "name": "python3"
  },
  "language_info": {
   "codemirror_mode": {
    "name": "ipython",
    "version": 3
   },
   "file_extension": ".py",
   "mimetype": "text/x-python",
   "name": "python",
   "nbconvert_exporter": "python",
   "pygments_lexer": "ipython3",
   "version": "3.10.8"
  }
 },
 "nbformat": 4,
 "nbformat_minor": 5
}
